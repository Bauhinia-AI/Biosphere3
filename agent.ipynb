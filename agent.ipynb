{
 "cells": [
  {
   "cell_type": "code",
   "execution_count": 1,
   "metadata": {},
   "outputs": [
    {
     "name": "stdout",
     "output_type": "stream",
     "text": [
      "{'code': 400, 'message': 'You cannot sleep.'}\n",
      "{'code': 200, 'maplength': 5.3, 'message': 'Movement completed successfully'}\n",
      "{'code': 200, 'cashreward': 169.05, 'message': 'Freelance job completed successfully'}\n",
      "================================\u001b[1m System Message \u001b[0m================================\n",
      "\n",
      "You are a helpful assistant.\n",
      "\n",
      "=============================\u001b[1m Messages Placeholder \u001b[0m=============================\n",
      "\n",
      "\u001b[33;1m\u001b[1;3m{{messages}}\u001b[0m\n"
     ]
    },
    {
     "name": "stderr",
     "output_type": "stream",
     "text": [
      "/Users/rick/miniconda3/envs/bio3/lib/python3.10/site-packages/langsmith/client.py:5489: LangChainBetaWarning: The function `loads` is in beta. It is actively being worked on, so the API may change.\n",
      "  prompt = loads(json.dumps(prompt_object.manifest))\n"
     ]
    }
   ],
   "source": [
    "import getpass\n",
    "import os\n",
    "\n",
    "\n",
    "def _set_if_undefined(var: str):\n",
    "    if not os.environ.get(var):\n",
    "        os.environ[var] = getpass.getpass(f\"Please provide your {var}\")\n",
    "\n",
    "os.environ[\"OPENAI_API_KEY\"] = \"sk-tejMSVz1e3ziu6nB0yP2wLiaCUp2jR4Jtf4uaAoXNro6YXmh\"\n",
    "os.environ[\"LANGCHAIN_API_KEY\"] = \"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\"\n",
    "\n",
    "\n",
    "_set_if_undefined(\"OPENAI_API_KEY\")\n",
    "_set_if_undefined(\"LANGCHAIN_API_KEY\")\n",
    "\n",
    "\n",
    "# Optional, add tracing in LangSmith\n",
    "os.environ[\"LANGCHAIN_TRACING_V2\"] = \"true\"\n",
    "os.environ[\"LANGCHAIN_PROJECT\"] = \"Bio3_agent\"\n",
    "\n",
    "from langchain import hub\n",
    "from langchain_openai import ChatOpenAI\n",
    "\n",
    "from langgraph.prebuilt import create_react_agent\n",
    "\n",
    "from tools import *\n",
    "tool_list = [do_freelance_job, navigate_to, sleep]\n",
    "\n",
    "\n",
    "\n",
    "prompt = hub.pull(\"wfh/react-agent-executor\")\n",
    "prompt.pretty_print()\n",
    "\n",
    "\n",
    "\n"
   ]
  },
  {
   "cell_type": "code",
   "execution_count": 2,
   "metadata": {},
   "outputs": [
    {
     "name": "stderr",
     "output_type": "stream",
     "text": [
      "/var/folders/sb/pqph_qdx7ts98qwv2rjpqw080000gn/T/ipykernel_7064/571500258.py:2: LangGraphDeprecationWarning: Parameter 'messages_modifier' in function 'create_react_agent' is deprecated as of version 0.1.9 and will be removed in version 0.3.0. Use 'state_modifier' parameter instead.\n",
      "  agent_executor = create_react_agent(llm, tool_list, messages_modifier=prompt)\n"
     ]
    }
   ],
   "source": [
    "llm = ChatOpenAI(base_url=\"https://api.aiproxy.io/v1\",model=\"gpt-4o\")\n",
    "agent_executor = create_react_agent(llm, tool_list, messages_modifier=prompt)"
   ]
  },
  {
   "cell_type": "code",
   "execution_count": 3,
   "metadata": {},
   "outputs": [
    {
     "data": {
      "text/plain": [
       "{'messages': [HumanMessage(content='Please go to the farm ,do freelance job, then go to toilet, then go home then sleep', id='f19dce8e-792a-4f83-8ff2-4e096a5607b9'),\n",
       "  AIMessage(content='', additional_kwargs={'tool_calls': [{'id': 'call_PMwwFU6N8sOaLr98YF7XVl0f', 'function': {'arguments': '{\"to\": \"farm\"}', 'name': 'navigate_to'}, 'type': 'function'}, {'id': 'call_6yi3Fp2xTO4trqHJ8NyJaPP5', 'function': {'arguments': '{\"timelength\": 1}', 'name': 'do_freelance_job'}, 'type': 'function'}], 'refusal': None}, response_metadata={'token_usage': {'completion_tokens': 50, 'prompt_tokens': 128, 'total_tokens': 178}, 'model_name': 'gpt-4o-2024-05-13', 'system_fingerprint': None, 'finish_reason': 'tool_calls', 'logprobs': None}, id='run-95a06014-4259-42d3-aaca-6bda48d49121-0', tool_calls=[{'name': 'navigate_to', 'args': {'to': 'farm'}, 'id': 'call_PMwwFU6N8sOaLr98YF7XVl0f', 'type': 'tool_call'}, {'name': 'do_freelance_job', 'args': {'timelength': 1}, 'id': 'call_6yi3Fp2xTO4trqHJ8NyJaPP5', 'type': 'tool_call'}], usage_metadata={'input_tokens': 128, 'output_tokens': 50, 'total_tokens': 178}),\n",
       "  ToolMessage(content='{\"code\": 200, \"maplength\": 7.5, \"message\": \"Movement completed successfully\"}', name='navigate_to', id='1673dafc-1add-4432-92f6-ebd8d76ff1fb', tool_call_id='call_PMwwFU6N8sOaLr98YF7XVl0f'),\n",
       "  ToolMessage(content='{\"code\": 200, \"cashreward\": 16.39, \"message\": \"Freelance job completed successfully\"}', name='do_freelance_job', id='abf848cc-1ae2-4569-8c96-7285c9f8b8b9', tool_call_id='call_6yi3Fp2xTO4trqHJ8NyJaPP5'),\n",
       "  AIMessage(content='', additional_kwargs={'tool_calls': [{'id': 'call_QWj6Gs2WV6CM6oPSgTw2uC3e', 'function': {'arguments': '{\"to\": \"toilet\"}', 'name': 'navigate_to'}, 'type': 'function'}, {'id': 'call_4esj0qczLg73INQZMNsJXoMK', 'function': {'arguments': '{\"to\": \"home\"}', 'name': 'navigate_to'}, 'type': 'function'}], 'refusal': None}, response_metadata={'token_usage': {'completion_tokens': 45, 'prompt_tokens': 239, 'total_tokens': 284}, 'model_name': 'gpt-4o-2024-05-13', 'system_fingerprint': None, 'finish_reason': 'tool_calls', 'logprobs': None}, id='run-2fc43506-41fc-4b17-93fb-754c04b45c7e-0', tool_calls=[{'name': 'navigate_to', 'args': {'to': 'toilet'}, 'id': 'call_QWj6Gs2WV6CM6oPSgTw2uC3e', 'type': 'tool_call'}, {'name': 'navigate_to', 'args': {'to': 'home'}, 'id': 'call_4esj0qczLg73INQZMNsJXoMK', 'type': 'tool_call'}], usage_metadata={'input_tokens': 239, 'output_tokens': 45, 'total_tokens': 284}),\n",
       "  ToolMessage(content='{\"code\": 200, \"maplength\": 8.7, \"message\": \"Movement completed successfully\"}', name='navigate_to', id='ade0f870-89c5-4139-8af2-2617b8e730a6', tool_call_id='call_QWj6Gs2WV6CM6oPSgTw2uC3e'),\n",
       "  ToolMessage(content='{\"code\": 200, \"maplength\": 6.2, \"message\": \"Movement completed successfully\"}', name='navigate_to', id='767c2a2f-ecfc-42fe-8fe9-b60e88f1a924', tool_call_id='call_4esj0qczLg73INQZMNsJXoMK'),\n",
       "  AIMessage(content='', additional_kwargs={'tool_calls': [{'id': 'call_Ky05T7MqLbMmJTUSIjS6U35X', 'function': {'arguments': '{\"timelength\":8}', 'name': 'sleep'}, 'type': 'function'}], 'refusal': None}, response_metadata={'token_usage': {'completion_tokens': 15, 'prompt_tokens': 342, 'total_tokens': 357}, 'model_name': 'gpt-4o-2024-05-13', 'system_fingerprint': None, 'finish_reason': 'tool_calls', 'logprobs': None}, id='run-56c3cdb6-4f3e-4c9a-96bf-12e2c6c85942-0', tool_calls=[{'name': 'sleep', 'args': {'timelength': 8}, 'id': 'call_Ky05T7MqLbMmJTUSIjS6U35X', 'type': 'tool_call'}], usage_metadata={'input_tokens': 342, 'output_tokens': 15, 'total_tokens': 357}),\n",
       "  ToolMessage(content='{\"code\": 200, \"energynew\": 80}', name='sleep', id='aa6d8894-5625-4a07-a147-f558b4a2c794', tool_call_id='call_Ky05T7MqLbMmJTUSIjS6U35X'),\n",
       "  AIMessage(content=\"Here's the summary of the tasks completed:\\n\\n1. **Went to the farm**.\\n2. **Completed a freelance job** and earned $16.39.\\n3. **Went to the toilet**.\\n4. **Went home**.\\n5. **Slept for 8 hours** and now have 80 energy.\\n\\nIs there anything else you need?\", additional_kwargs={'refusal': None}, response_metadata={'token_usage': {'completion_tokens': 74, 'prompt_tokens': 377, 'total_tokens': 451}, 'model_name': 'gpt-4o-2024-05-13', 'system_fingerprint': None, 'finish_reason': 'stop', 'logprobs': None}, id='run-fe679d0c-f646-465e-9c11-a08cf4ccb175-0', usage_metadata={'input_tokens': 377, 'output_tokens': 74, 'total_tokens': 451})]}"
      ]
     },
     "execution_count": 3,
     "metadata": {},
     "output_type": "execute_result"
    }
   ],
   "source": [
    "agent_executor.invoke({\"messages\": [(\"user\", \"Please go to the farm ,do freelance job, then go to toilet, then go home then sleep\")]})\n"
   ]
  },
  {
   "cell_type": "code",
   "execution_count": 4,
   "metadata": {},
   "outputs": [],
   "source": [
    "import operator\n",
    "from typing import Annotated, List, Tuple, TypedDict\n",
    "\n",
    "\n",
    "class PlanExecute(TypedDict):\n",
    "    input: str\n",
    "    plan: List[str]\n",
    "    past_steps: Annotated[List[Tuple], operator.add]\n",
    "    response: str\n",
    "    #reward : float"
   ]
  },
  {
   "cell_type": "code",
   "execution_count": 5,
   "metadata": {},
   "outputs": [],
   "source": [
    "from langchain_core.pydantic_v1 import BaseModel, Field\n",
    "\n",
    "\n",
    "class Plan(BaseModel):\n",
    "    \"\"\"Plan to follow in future\"\"\"\n",
    "\n",
    "    steps: List[str] = Field(\n",
    "        description=\"different steps to follow, should be in sorted order\"\n",
    "    )"
   ]
  },
  {
   "cell_type": "code",
   "execution_count": 6,
   "metadata": {},
   "outputs": [],
   "source": [
    "from langchain_core.prompts import ChatPromptTemplate\n",
    "\n",
    "planner_prompt = ChatPromptTemplate.from_messages(\n",
    "    [\n",
    "        (\n",
    "            \"system\",\n",
    "            \"\"\"For the given objective, come up with a simple step by step plan. \\\n",
    "This plan should involve individual tasks, that if executed correctly will yield the correct answer. Do not add any superfluous steps. \\\n",
    "The result of the final step should be the final answer. Make sure that each step has all the information needed - do not skip steps.\"\"\",\n",
    "        ),\n",
    "        (\"placeholder\", \"{messages}\"),\n",
    "    ]\n",
    ")\n",
    "planner = planner_prompt | ChatOpenAI(\n",
    "    base_url=\"https://api.aiproxy.io/v1\",model=\"gpt-4o\", temperature=0\n",
    ").with_structured_output(Plan)"
   ]
  },
  {
   "cell_type": "code",
   "execution_count": 7,
   "metadata": {},
   "outputs": [],
   "source": [
    "from typing import Union\n",
    "\n",
    "\n",
    "class Response(BaseModel):\n",
    "    \"\"\"Response to user.\"\"\"\n",
    "\n",
    "    response: str\n",
    "\n",
    "\n",
    "class Act(BaseModel):\n",
    "    \"\"\"Action to perform.\"\"\"\n",
    "\n",
    "    action: Union[Response, Plan] = Field(\n",
    "        description=\"Action to perform. If you want to respond to user, use Response. \"\n",
    "        \"If you need to further use tools to get the answer, use Plan.\"\n",
    "    )\n",
    "\n",
    "\n",
    "replanner_prompt = ChatPromptTemplate.from_template(\n",
    "    \"\"\"For the given objective, come up with a simple step by step plan. \\\n",
    "This plan should involve individual tasks, that if executed correctly will yield the correct answer. Do not add any superfluous steps. \\\n",
    "The result of the final step should be the final answer. Make sure that each step has all the information needed - do not skip steps.\n",
    "\n",
    "Your objective was this:\n",
    "{input}\n",
    "\n",
    "Your original plan was this:\n",
    "{plan}\n",
    "\n",
    "You have currently done the follow steps:\n",
    "{past_steps}\n",
    "\n",
    "Update your plan accordingly. If no more steps are needed and you can return to the user, then respond with that. Otherwise, fill out the plan. Only add steps to the plan that still NEED to be done. Do not return previously done steps as part of the plan.\"\"\"\n",
    ")\n",
    "\n",
    "\n",
    "replanner = replanner_prompt | ChatOpenAI(\n",
    "    base_url=\"https://api.aiproxy.io/v1\",model=\"gpt-4o\", temperature=0\n",
    ").with_structured_output(Act)"
   ]
  },
  {
   "cell_type": "code",
   "execution_count": 8,
   "metadata": {},
   "outputs": [],
   "source": [
    "from typing import Literal\n",
    "\n",
    "# Helper function to extract reward from the response\n",
    "# def extract_reward(response: str) -> int:\n",
    "#     # Implement logic to extract reward from the response\n",
    "#     # For example, if the response contains \"reward: 1000\", extract 1000\n",
    "#     import re\n",
    "#     match = re.search(r\"reward: (\\d+)\", response)\n",
    "#     if match:\n",
    "#         return int(match.group(1))\n",
    "#     return 0\n",
    "\n",
    "\n",
    "async def execute_step(state: PlanExecute):\n",
    "    plan = state[\"plan\"]\n",
    "    plan_str = \"\\n\".join(f\"{i+1}. {step}\" for i, step in enumerate(plan))\n",
    "    task = plan[0]\n",
    "    task_formatted = f\"\"\"For the following plan:\n",
    "{plan_str}\\n\\nYou are tasked with executing step {1}, {task}.\"\"\"\n",
    "    agent_response = await agent_executor.ainvoke(\n",
    "        {\"messages\": [(\"user\", task_formatted)]}\n",
    "    )\n",
    "\n",
    "    #Extract the reward from the agent_response\n",
    "    #TODO BUGGY\n",
    "    # if \"freelance\" in task:\n",
    "    #     reward = extract_reward(agent_response[\"messages\"][-1].content)\n",
    "    #     print(reward)\n",
    "    #     state[\"reward\"] = reward\n",
    "\n",
    "    \n",
    "\n",
    "    return {\n",
    "        \"past_steps\": [(task, agent_response[\"messages\"][-1].content)],\n",
    "    }\n",
    "\n",
    "\n",
    "async def plan_step(state: PlanExecute):\n",
    "    plan = await planner.ainvoke({\"messages\": [(\"user\", state[\"input\"])]})\n",
    "    return {\"plan\": plan.steps}\n",
    "\n",
    "\n",
    "async def replan_step(state: PlanExecute):\n",
    "    output = await replanner.ainvoke(state)\n",
    "    if isinstance(output.action, Response):\n",
    "        return {\"response\": output.action.response}\n",
    "    else:\n",
    "        return {\"plan\": output.action.steps}\n",
    "\n",
    "\n",
    "def should_end(state: PlanExecute) -> Literal[\"Executor\", \"__end__\"]:\n",
    "    if \"response\" in state and state[\"response\"]:\n",
    "        return \"__end__\"\n",
    "    else:\n",
    "        return \"Executor\""
   ]
  },
  {
   "cell_type": "code",
   "execution_count": 9,
   "metadata": {},
   "outputs": [],
   "source": [
    "from langgraph.graph import StateGraph, START\n",
    "\n",
    "workflow = StateGraph(PlanExecute)\n",
    "\n",
    "# Add the plan node\n",
    "workflow.add_node(\"Objectives_planner\", plan_step)\n",
    "\n",
    "# Add the execution step\n",
    "workflow.add_node(\"Executor\", execute_step)\n",
    "\n",
    "# Add a replan node\n",
    "workflow.add_node(\"replan\", replan_step)\n",
    "\n",
    "workflow.add_edge(START, \"Objectives_planner\")\n",
    "\n",
    "# From plan we go to agent\n",
    "workflow.add_edge(\"Objectives_planner\", \"Executor\")\n",
    "\n",
    "# From agent, we replan\n",
    "workflow.add_edge(\"Executor\", \"replan\")\n",
    "\n",
    "workflow.add_conditional_edges(\n",
    "    \"replan\",\n",
    "    should_end,\n",
    ")\n",
    "\n",
    "app = workflow.compile()"
   ]
  },
  {
   "cell_type": "code",
   "execution_count": 10,
   "metadata": {},
   "outputs": [
    {
     "data": {
      "image/jpeg": "[encoded data removed]",
      "text/plain": [
       "<IPython.core.display.Image object>"
      ]
     },
     "metadata": {},
     "output_type": "display_data"
    }
   ],
   "source": [
    "from IPython.display import Image, display\n",
    "\n",
    "display(Image(app.get_graph(xray=True).draw_mermaid_png()))"
   ]
  },
  {
   "cell_type": "code",
   "execution_count": 11,
   "metadata": {},
   "outputs": [
    {
     "name": "stdout",
     "output_type": "stream",
     "text": [
      "{'plan': ['Go to the farm', 'Do freelance job', 'Go home', 'Sleep']}\n",
      "{'past_steps': [('Go to the farm', \"I have successfully navigated to the farm. What's next on your plan?\")]}\n",
      "{'plan': ['Do freelance job', 'Go home', 'Sleep']}\n",
      "{'past_steps': [('Do freelance job', 'How many hours should I allocate for the freelance job?')]}\n",
      "{'plan': ['Allocate hours for the freelance job', 'Complete the freelance job', 'Go home', 'Sleep']}\n",
      "{'past_steps': [('Allocate hours for the freelance job', 'How many hours would you like to allocate for the freelance job?')]}\n",
      "{'plan': ['Complete the freelance job', 'Go home', 'Sleep']}\n",
      "{'past_steps': [('Complete the freelance job', 'The freelance job has been completed successfully, earning a cash reward of $73.10. Now you can proceed to go home and then sleep.')]}\n",
      "{'plan': ['Go home', 'Sleep']}\n"
     ]
    }
   ],
   "source": [
    "config = {\"recursion_limit\": 10}\n",
    "inputs = {\"input\": \"go to the farm and do freelance job, go home and sleep\"}\n",
    "async for event in app.astream(inputs, config=config):\n",
    "    for k, v in event.items():\n",
    "        if k != \"__end__\":\n",
    "            print(v)"
   ]
  },
  {
   "cell_type": "code",
   "execution_count": null,
   "metadata": {},
   "outputs": [],
   "source": []
  }
 ],
 "metadata": {
  "kernelspec": {
   "display_name": "bio3",
   "language": "python",
   "name": "python3"
  },
  "language_info": {
   "codemirror_mode": {
    "name": "ipython",
    "version": 3
   },
   "file_extension": ".py",
   "mimetype": "text/x-python",
   "name": "python",
   "nbconvert_exporter": "python",
   "pygments_lexer": "ipython3",
   "version": "3.10.14"
  }
 },
 "nbformat": 4,
 "nbformat_minor": 2
}
